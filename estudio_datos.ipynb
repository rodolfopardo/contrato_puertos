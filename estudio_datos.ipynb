{
 "cells": [
  {
   "cell_type": "markdown",
   "metadata": {},
   "source": [
    "## Insights - Contrato procesado Cargofive"
   ]
  },
  {
   "cell_type": "markdown",
   "metadata": {},
   "source": [
    "#### por Rodolfo Pardo "
   ]
  },
  {
   "cell_type": "markdown",
   "metadata": {},
   "source": [
    "#### Data Extraction"
   ]
  },
  {
   "cell_type": "code",
   "execution_count": 2,
   "metadata": {},
   "outputs": [],
   "source": [
    "#Se importan las librerias que vamos a utilizar\n",
    "\n",
    "import pandas as pd\n",
    "import numpy as np \n",
    "import matplotlib.pyplot as plt\n",
    "import seaborn as sns\n",
    "%matplotlib inline"
   ]
  },
  {
   "cell_type": "code",
   "execution_count": 3,
   "metadata": {},
   "outputs": [],
   "source": [
    "#Se configura las dimensiones de los graficos a utilizar\n",
    "\n",
    "sns.set(rc={'figure.figsize':(11.7,8.27)})\n",
    "plt.style.use('fivethirtyeight')"
   ]
  },
  {
   "cell_type": "code",
   "execution_count": 7,
   "metadata": {},
   "outputs": [],
   "source": [
    "#Se lee la base otorgada por Cargofive \n",
    "\n",
    "rutas = pd.read_csv('contrato_puerto.csv')"
   ]
  },
  {
   "cell_type": "markdown",
   "metadata": {},
   "source": [
    "### Data cleaning"
   ]
  },
  {
   "cell_type": "code",
   "execution_count": 8,
   "metadata": {},
   "outputs": [
    {
     "data": {
      "text/html": [
       "<div>\n",
       "<style scoped>\n",
       "    .dataframe tbody tr th:only-of-type {\n",
       "        vertical-align: middle;\n",
       "    }\n",
       "\n",
       "    .dataframe tbody tr th {\n",
       "        vertical-align: top;\n",
       "    }\n",
       "\n",
       "    .dataframe thead th {\n",
       "        text-align: right;\n",
       "    }\n",
       "</style>\n",
       "<table border=\"1\" class=\"dataframe\">\n",
       "  <thead>\n",
       "    <tr style=\"text-align: right;\">\n",
       "      <th></th>\n",
       "      <th>PUERTO DE ORIGEN</th>\n",
       "      <th>PAIS</th>\n",
       "      <th>20DRY</th>\n",
       "      <th>40DRY</th>\n",
       "      <th>40H.C.</th>\n",
       "      <th>CURR.</th>\n",
       "      <th>CARGO</th>\n",
       "    </tr>\n",
       "  </thead>\n",
       "  <tbody>\n",
       "    <tr>\n",
       "      <th>0</th>\n",
       "      <td>QINGDAO</td>\n",
       "      <td>CHINA</td>\n",
       "      <td>725</td>\n",
       "      <td>1350</td>\n",
       "      <td>1350</td>\n",
       "      <td>USD</td>\n",
       "      <td>BUC</td>\n",
       "    </tr>\n",
       "    <tr>\n",
       "      <th>1</th>\n",
       "      <td>KAOHSIUNG ( Solo VLC)</td>\n",
       "      <td>TAIWAN</td>\n",
       "      <td>725</td>\n",
       "      <td>1350</td>\n",
       "      <td>1350</td>\n",
       "      <td>USD</td>\n",
       "      <td>BUC</td>\n",
       "    </tr>\n",
       "    <tr>\n",
       "      <th>2</th>\n",
       "      <td>HONG KONG (Solo VLC)</td>\n",
       "      <td>HONG KONG</td>\n",
       "      <td>725</td>\n",
       "      <td>1350</td>\n",
       "      <td>1350</td>\n",
       "      <td>USD</td>\n",
       "      <td>BUC</td>\n",
       "    </tr>\n",
       "    <tr>\n",
       "      <th>3</th>\n",
       "      <td>PUSAN</td>\n",
       "      <td>SOUTH KOREA</td>\n",
       "      <td>725</td>\n",
       "      <td>1350</td>\n",
       "      <td>1350</td>\n",
       "      <td>USD</td>\n",
       "      <td>BUC</td>\n",
       "    </tr>\n",
       "    <tr>\n",
       "      <th>4</th>\n",
       "      <td>SHANGHAI</td>\n",
       "      <td>CHINA</td>\n",
       "      <td>725</td>\n",
       "      <td>1350</td>\n",
       "      <td>1350</td>\n",
       "      <td>USD</td>\n",
       "      <td>BUC</td>\n",
       "    </tr>\n",
       "  </tbody>\n",
       "</table>\n",
       "</div>"
      ],
      "text/plain": [
       "        PUERTO DE ORIGEN         PAIS  20DRY  40DRY  40H.C. CURR. CARGO\n",
       "0                QINGDAO        CHINA    725   1350    1350   USD   BUC\n",
       "1  KAOHSIUNG ( Solo VLC)       TAIWAN    725   1350    1350   USD   BUC\n",
       "2   HONG KONG (Solo VLC)    HONG KONG    725   1350    1350   USD   BUC\n",
       "3                  PUSAN  SOUTH KOREA    725   1350    1350   USD   BUC\n",
       "4               SHANGHAI        CHINA    725   1350    1350   USD   BUC"
      ]
     },
     "execution_count": 8,
     "metadata": {},
     "output_type": "execute_result"
    }
   ],
   "source": [
    "#Primeros valores \n",
    "\n",
    "rutas.head()"
   ]
  },
  {
   "cell_type": "code",
   "execution_count": 9,
   "metadata": {},
   "outputs": [
    {
     "data": {
      "text/html": [
       "<div>\n",
       "<style scoped>\n",
       "    .dataframe tbody tr th:only-of-type {\n",
       "        vertical-align: middle;\n",
       "    }\n",
       "\n",
       "    .dataframe tbody tr th {\n",
       "        vertical-align: top;\n",
       "    }\n",
       "\n",
       "    .dataframe thead th {\n",
       "        text-align: right;\n",
       "    }\n",
       "</style>\n",
       "<table border=\"1\" class=\"dataframe\">\n",
       "  <thead>\n",
       "    <tr style=\"text-align: right;\">\n",
       "      <th></th>\n",
       "      <th>PUERTO DE ORIGEN</th>\n",
       "      <th>PAIS</th>\n",
       "      <th>20DRY</th>\n",
       "      <th>40DRY</th>\n",
       "      <th>40H.C.</th>\n",
       "      <th>CURR.</th>\n",
       "      <th>CARGO</th>\n",
       "    </tr>\n",
       "  </thead>\n",
       "  <tbody>\n",
       "    <tr>\n",
       "      <th>69</th>\n",
       "      <td>MUNDRA</td>\n",
       "      <td>India</td>\n",
       "      <td>875</td>\n",
       "      <td>1600</td>\n",
       "      <td>1600</td>\n",
       "      <td>GBP</td>\n",
       "      <td>BUC</td>\n",
       "    </tr>\n",
       "    <tr>\n",
       "      <th>70</th>\n",
       "      <td>TUTICORIN</td>\n",
       "      <td>India</td>\n",
       "      <td>975</td>\n",
       "      <td>1800</td>\n",
       "      <td>1800</td>\n",
       "      <td>USD</td>\n",
       "      <td>BUC</td>\n",
       "    </tr>\n",
       "    <tr>\n",
       "      <th>71</th>\n",
       "      <td>CALCUTTA</td>\n",
       "      <td>India</td>\n",
       "      <td>975</td>\n",
       "      <td>1800</td>\n",
       "      <td>1800</td>\n",
       "      <td>USD</td>\n",
       "      <td>BUC</td>\n",
       "    </tr>\n",
       "    <tr>\n",
       "      <th>72</th>\n",
       "      <td>CHENNAI</td>\n",
       "      <td>India</td>\n",
       "      <td>875</td>\n",
       "      <td>1600</td>\n",
       "      <td>1600</td>\n",
       "      <td>USD</td>\n",
       "      <td>BUC</td>\n",
       "    </tr>\n",
       "    <tr>\n",
       "      <th>73</th>\n",
       "      <td>KATTUPALLI</td>\n",
       "      <td>India</td>\n",
       "      <td>875</td>\n",
       "      <td>1600</td>\n",
       "      <td>1600</td>\n",
       "      <td>USD</td>\n",
       "      <td>BUC</td>\n",
       "    </tr>\n",
       "  </tbody>\n",
       "</table>\n",
       "</div>"
      ],
      "text/plain": [
       "   PUERTO DE ORIGEN   PAIS  20DRY  40DRY  40H.C. CURR. CARGO\n",
       "69           MUNDRA  India    875   1600    1600   GBP   BUC\n",
       "70        TUTICORIN  India    975   1800    1800   USD   BUC\n",
       "71         CALCUTTA  India    975   1800    1800   USD   BUC\n",
       "72          CHENNAI  India    875   1600    1600   USD   BUC\n",
       "73       KATTUPALLI  India    875   1600    1600   USD   BUC"
      ]
     },
     "execution_count": 9,
     "metadata": {},
     "output_type": "execute_result"
    }
   ],
   "source": [
    "#Ultimos valores \n",
    "\n",
    "rutas.tail()"
   ]
  },
  {
   "cell_type": "markdown",
   "metadata": {},
   "source": [
    "<font color=blue>Primeras conclusiones de nuestra base"
   ]
  },
  {
   "cell_type": "code",
   "execution_count": 10,
   "metadata": {},
   "outputs": [
    {
     "name": "stdout",
     "output_type": "stream",
     "text": [
      "Esta conjunto de datos contiene 74 rutas realizadas con 7 variables para analizar\n"
     ]
    }
   ],
   "source": [
    "print(\"Esta conjunto de datos contiene {} rutas realizadas con {} variables para analizar\".format(rutas.shape[0], rutas.shape[1]))"
   ]
  },
  {
   "cell_type": "code",
   "execution_count": 16,
   "metadata": {},
   "outputs": [
    {
     "data": {
      "text/plain": [
       "Index(['PUERTO DE ORIGEN', 'PAIS', '20DRY', '40DRY', '40H.C.', 'CURR.',\n",
       "       'CARGO'],\n",
       "      dtype='object')"
      ]
     },
     "execution_count": 16,
     "metadata": {},
     "output_type": "execute_result"
    }
   ],
   "source": [
    "#Variables a analizar \n",
    "\n",
    "rutas.columns"
   ]
  },
  {
   "cell_type": "code",
   "execution_count": 18,
   "metadata": {},
   "outputs": [
    {
     "data": {
      "text/html": [
       "<div>\n",
       "<style scoped>\n",
       "    .dataframe tbody tr th:only-of-type {\n",
       "        vertical-align: middle;\n",
       "    }\n",
       "\n",
       "    .dataframe tbody tr th {\n",
       "        vertical-align: top;\n",
       "    }\n",
       "\n",
       "    .dataframe thead th {\n",
       "        text-align: right;\n",
       "    }\n",
       "</style>\n",
       "<table border=\"1\" class=\"dataframe\">\n",
       "  <thead>\n",
       "    <tr style=\"text-align: right;\">\n",
       "      <th></th>\n",
       "      <th>20DRY</th>\n",
       "      <th>40DRY</th>\n",
       "      <th>40H.C.</th>\n",
       "    </tr>\n",
       "  </thead>\n",
       "  <tbody>\n",
       "    <tr>\n",
       "      <th>count</th>\n",
       "      <td>74.000000</td>\n",
       "      <td>74.000000</td>\n",
       "      <td>74.000000</td>\n",
       "    </tr>\n",
       "    <tr>\n",
       "      <th>mean</th>\n",
       "      <td>831.756757</td>\n",
       "      <td>1561.486486</td>\n",
       "      <td>1561.486486</td>\n",
       "    </tr>\n",
       "    <tr>\n",
       "      <th>std</th>\n",
       "      <td>80.696592</td>\n",
       "      <td>157.364270</td>\n",
       "      <td>157.364270</td>\n",
       "    </tr>\n",
       "    <tr>\n",
       "      <th>min</th>\n",
       "      <td>725.000000</td>\n",
       "      <td>1350.000000</td>\n",
       "      <td>1350.000000</td>\n",
       "    </tr>\n",
       "    <tr>\n",
       "      <th>25%</th>\n",
       "      <td>775.000000</td>\n",
       "      <td>1450.000000</td>\n",
       "      <td>1450.000000</td>\n",
       "    </tr>\n",
       "    <tr>\n",
       "      <th>50%</th>\n",
       "      <td>825.000000</td>\n",
       "      <td>1550.000000</td>\n",
       "      <td>1550.000000</td>\n",
       "    </tr>\n",
       "    <tr>\n",
       "      <th>75%</th>\n",
       "      <td>875.000000</td>\n",
       "      <td>1600.000000</td>\n",
       "      <td>1600.000000</td>\n",
       "    </tr>\n",
       "    <tr>\n",
       "      <th>max</th>\n",
       "      <td>1125.000000</td>\n",
       "      <td>2050.000000</td>\n",
       "      <td>2050.000000</td>\n",
       "    </tr>\n",
       "  </tbody>\n",
       "</table>\n",
       "</div>"
      ],
      "text/plain": [
       "             20DRY        40DRY       40H.C.\n",
       "count    74.000000    74.000000    74.000000\n",
       "mean    831.756757  1561.486486  1561.486486\n",
       "std      80.696592   157.364270   157.364270\n",
       "min     725.000000  1350.000000  1350.000000\n",
       "25%     775.000000  1450.000000  1450.000000\n",
       "50%     825.000000  1550.000000  1550.000000\n",
       "75%     875.000000  1600.000000  1600.000000\n",
       "max    1125.000000  2050.000000  2050.000000"
      ]
     },
     "execution_count": 18,
     "metadata": {},
     "output_type": "execute_result"
    }
   ],
   "source": [
    "#Estadística descriptiva de variables numéricas\n",
    "#Cantidad, promedio, desviación standart, minima, quartiles y maximo\n",
    "\n",
    "rutas.describe()"
   ]
  },
  {
   "cell_type": "code",
   "execution_count": 21,
   "metadata": {},
   "outputs": [
    {
     "name": "stdout",
     "output_type": "stream",
     "text": [
      "<class 'pandas.core.frame.DataFrame'>\n",
      "RangeIndex: 74 entries, 0 to 73\n",
      "Data columns (total 7 columns):\n",
      " #   Column            Non-Null Count  Dtype \n",
      "---  ------            --------------  ----- \n",
      " 0   PUERTO DE ORIGEN  74 non-null     object\n",
      " 1   PAIS              74 non-null     object\n",
      " 2   20DRY             74 non-null     int64 \n",
      " 3   40DRY             74 non-null     int64 \n",
      " 4   40H.C.            74 non-null     int64 \n",
      " 5   CURR.             74 non-null     object\n",
      " 6   CARGO             74 non-null     object\n",
      "dtypes: int64(3), object(4)\n",
      "memory usage: 4.2+ KB\n"
     ]
    }
   ],
   "source": [
    "#Tipo de columna con tipo de dato\n",
    "\n",
    "rutas.info()"
   ]
  },
  {
   "cell_type": "code",
   "execution_count": 34,
   "metadata": {},
   "outputs": [],
   "source": [
    "#Se realiza el cambio de nombres de columnas para la mejor comprensión de nuestros datos\n",
    "\n",
    "columnas = ['puerto_origen', 'pais_destino', 'contenedor20', 'contenedor40', 'contenedor40hc', 'moneda', 'cargo']\n",
    "rutas.columns = columnas"
   ]
  },
  {
   "cell_type": "code",
   "execution_count": 35,
   "metadata": {},
   "outputs": [
    {
     "data": {
      "text/plain": [
       "puerto_origen     0\n",
       "pais_destino      0\n",
       "contenedor20      0\n",
       "contenedor40      0\n",
       "contenedor40hc    0\n",
       "moneda            0\n",
       "cargo             0\n",
       "dtype: int64"
      ]
     },
     "execution_count": 35,
     "metadata": {},
     "output_type": "execute_result"
    }
   ],
   "source": [
    "#Investigación de valores nulos en nuestra base de datos \n",
    "\n",
    "rutas.isnull().sum()"
   ]
  },
  {
   "cell_type": "code",
   "execution_count": 37,
   "metadata": {},
   "outputs": [
    {
     "data": {
      "text/plain": [
       "57"
      ]
     },
     "execution_count": 37,
     "metadata": {},
     "output_type": "execute_result"
    }
   ],
   "source": [
    "#Investigación de valores repetidos en país\n",
    "\n",
    "rutas.duplicated(subset=['pais_destino']).sum()"
   ]
  },
  {
   "cell_type": "code",
   "execution_count": 38,
   "metadata": {},
   "outputs": [
    {
     "data": {
      "text/plain": [
       "2"
      ]
     },
     "execution_count": 38,
     "metadata": {},
     "output_type": "execute_result"
    }
   ],
   "source": [
    "#Investigación de valores repetidos por puerto de origen\n",
    "\n",
    "rutas.duplicated(subset=['puerto_origen']).sum()"
   ]
  },
  {
   "cell_type": "markdown",
   "metadata": {},
   "source": [
    "#### Entendiendo que los valores repetidos en país son razonables por establecerse como puerto destino no se eliminan ya que resultan interesantes para el estudio a realizarse en este proyecto de datos. Lo mismo ocurre con los dos valores repetidos en puertos de origen"
   ]
  },
  {
   "cell_type": "markdown",
   "metadata": {},
   "source": [
    "#### Ante la ausencia de valores nulos en nuestra base, se pueden trabajar estos datos de forma correcta"
   ]
  },
  {
   "cell_type": "markdown",
   "metadata": {},
   "source": [
    "### Data exploration"
   ]
  },
  {
   "cell_type": "code",
   "execution_count": 39,
   "metadata": {},
   "outputs": [
    {
     "data": {
      "text/plain": [
       "CHINA          32\n",
       "India           7\n",
       "Japon           7\n",
       "Taiwan          4\n",
       "Malasia         4\n",
       "Indonesia       4\n",
       "Tailandia       3\n",
       "Filipinas       2\n",
       "HONG KONG       2\n",
       "Vietnam         2\n",
       "SOUTH KOREA     1\n",
       "Camboya         1\n",
       "SINGAPORE       1\n",
       "Myanmar         1\n",
       "Bangladesh      1\n",
       "TAIWAN          1\n",
       "Pakistán        1\n",
       "Name: pais_destino, dtype: int64"
      ]
     },
     "execution_count": 39,
     "metadata": {},
     "output_type": "execute_result"
    }
   ],
   "source": [
    "#Cantidad de rutas por país \n",
    "\n",
    "rutas['pais_destino'].value_counts()"
   ]
  },
  {
   "cell_type": "code",
   "execution_count": 40,
   "metadata": {},
   "outputs": [
    {
     "data": {
      "text/plain": [
       "CHINA          0.432432\n",
       "India          0.094595\n",
       "Japon          0.094595\n",
       "Taiwan         0.054054\n",
       "Malasia        0.054054\n",
       "Indonesia      0.054054\n",
       "Tailandia      0.040541\n",
       "Filipinas      0.027027\n",
       "HONG KONG      0.027027\n",
       "Vietnam        0.027027\n",
       "SOUTH KOREA    0.013514\n",
       "Camboya        0.013514\n",
       "SINGAPORE      0.013514\n",
       "Myanmar        0.013514\n",
       "Bangladesh     0.013514\n",
       "TAIWAN         0.013514\n",
       "Pakistán       0.013514\n",
       "Name: pais_destino, dtype: float64"
      ]
     },
     "execution_count": 40,
     "metadata": {},
     "output_type": "execute_result"
    }
   ],
   "source": [
    "#Proporción en cantidad de rutas por país \n",
    "\n",
    "rutas['pais_destino'].value_counts(normalize = True)"
   ]
  },
  {
   "cell_type": "code",
   "execution_count": 80,
   "metadata": {},
   "outputs": [
    {
     "data": {
      "image/png": "[encoded data removed]",
      "text/plain": [
       "<Figure size 842.4x595.44 with 1 Axes>"
      ]
     },
     "metadata": {},
     "output_type": "display_data"
    },
    {
     "data": {
      "text/plain": [
       "<Figure size 842.4x595.44 with 0 Axes>"
      ]
     },
     "metadata": {},
     "output_type": "display_data"
    }
   ],
   "source": [
    "#Visualización de cantidad de rutas por país \n",
    "\n",
    "rutas['pais_destino'].value_counts().plot.bar()\n",
    "plt.title('Cantidad de rutas por país destino', fontsize = 20)\n",
    "plt.xlabel('Países')\n",
    "plt.ylabel('Cantidad de rutas')\n",
    "plt.show()\n",
    "plt.savefig('rutas_por_pais_destino.png')"
   ]
  },
  {
   "cell_type": "markdown",
   "metadata": {},
   "source": [
    "------------"
   ]
  },
  {
   "cell_type": "code",
   "execution_count": 45,
   "metadata": {},
   "outputs": [
    {
     "data": {
      "text/plain": [
       "count      74.000000\n",
       "mean      831.756757\n",
       "std        80.696592\n",
       "min       725.000000\n",
       "25%       775.000000\n",
       "50%       825.000000\n",
       "75%       875.000000\n",
       "max      1125.000000\n",
       "Name: contenedor20, dtype: float64"
      ]
     },
     "execution_count": 45,
     "metadata": {},
     "output_type": "execute_result"
    }
   ],
   "source": [
    "#Analisis tipo de contenedor 20\n",
    "\n",
    "rutas.contenedor20.describe()"
   ]
  },
  {
   "cell_type": "code",
   "execution_count": 46,
   "metadata": {},
   "outputs": [
    {
     "data": {
      "text/html": [
       "<div>\n",
       "<style scoped>\n",
       "    .dataframe tbody tr th:only-of-type {\n",
       "        vertical-align: middle;\n",
       "    }\n",
       "\n",
       "    .dataframe tbody tr th {\n",
       "        vertical-align: top;\n",
       "    }\n",
       "\n",
       "    .dataframe thead th {\n",
       "        text-align: right;\n",
       "    }\n",
       "</style>\n",
       "<table border=\"1\" class=\"dataframe\">\n",
       "  <thead>\n",
       "    <tr style=\"text-align: right;\">\n",
       "      <th></th>\n",
       "      <th>puerto_origen</th>\n",
       "      <th>pais_destino</th>\n",
       "      <th>contenedor20</th>\n",
       "      <th>contenedor40</th>\n",
       "      <th>contenedor40hc</th>\n",
       "      <th>moneda</th>\n",
       "      <th>cargo</th>\n",
       "    </tr>\n",
       "  </thead>\n",
       "  <tbody>\n",
       "    <tr>\n",
       "      <th>24</th>\n",
       "      <td>CHONG QING</td>\n",
       "      <td>CHINA</td>\n",
       "      <td>1125</td>\n",
       "      <td>2050</td>\n",
       "      <td>2050</td>\n",
       "      <td>USD</td>\n",
       "      <td>BUC</td>\n",
       "    </tr>\n",
       "  </tbody>\n",
       "</table>\n",
       "</div>"
      ],
      "text/plain": [
       "   puerto_origen pais_destino  contenedor20  contenedor40  contenedor40hc  \\\n",
       "24    CHONG QING        CHINA          1125          2050            2050   \n",
       "\n",
       "   moneda cargo  \n",
       "24    USD   BUC  "
      ]
     },
     "execution_count": 46,
     "metadata": {},
     "output_type": "execute_result"
    }
   ],
   "source": [
    "#Rutas con el máximo cobro en contenedor 20\n",
    "\n",
    "rutas[rutas['contenedor20'] == 1125]"
   ]
  },
  {
   "cell_type": "code",
   "execution_count": 47,
   "metadata": {},
   "outputs": [
    {
     "data": {
      "text/html": [
       "<div>\n",
       "<style scoped>\n",
       "    .dataframe tbody tr th:only-of-type {\n",
       "        vertical-align: middle;\n",
       "    }\n",
       "\n",
       "    .dataframe tbody tr th {\n",
       "        vertical-align: top;\n",
       "    }\n",
       "\n",
       "    .dataframe thead th {\n",
       "        text-align: right;\n",
       "    }\n",
       "</style>\n",
       "<table border=\"1\" class=\"dataframe\">\n",
       "  <thead>\n",
       "    <tr style=\"text-align: right;\">\n",
       "      <th></th>\n",
       "      <th>puerto_origen</th>\n",
       "      <th>pais_destino</th>\n",
       "      <th>contenedor20</th>\n",
       "      <th>contenedor40</th>\n",
       "      <th>contenedor40hc</th>\n",
       "      <th>moneda</th>\n",
       "      <th>cargo</th>\n",
       "    </tr>\n",
       "  </thead>\n",
       "  <tbody>\n",
       "    <tr>\n",
       "      <th>0</th>\n",
       "      <td>QINGDAO</td>\n",
       "      <td>CHINA</td>\n",
       "      <td>725</td>\n",
       "      <td>1350</td>\n",
       "      <td>1350</td>\n",
       "      <td>USD</td>\n",
       "      <td>BUC</td>\n",
       "    </tr>\n",
       "    <tr>\n",
       "      <th>1</th>\n",
       "      <td>KAOHSIUNG ( Solo VLC)</td>\n",
       "      <td>TAIWAN</td>\n",
       "      <td>725</td>\n",
       "      <td>1350</td>\n",
       "      <td>1350</td>\n",
       "      <td>USD</td>\n",
       "      <td>BUC</td>\n",
       "    </tr>\n",
       "    <tr>\n",
       "      <th>2</th>\n",
       "      <td>HONG KONG (Solo VLC)</td>\n",
       "      <td>HONG KONG</td>\n",
       "      <td>725</td>\n",
       "      <td>1350</td>\n",
       "      <td>1350</td>\n",
       "      <td>USD</td>\n",
       "      <td>BUC</td>\n",
       "    </tr>\n",
       "    <tr>\n",
       "      <th>3</th>\n",
       "      <td>PUSAN</td>\n",
       "      <td>SOUTH KOREA</td>\n",
       "      <td>725</td>\n",
       "      <td>1350</td>\n",
       "      <td>1350</td>\n",
       "      <td>USD</td>\n",
       "      <td>BUC</td>\n",
       "    </tr>\n",
       "    <tr>\n",
       "      <th>4</th>\n",
       "      <td>SHANGHAI</td>\n",
       "      <td>CHINA</td>\n",
       "      <td>725</td>\n",
       "      <td>1350</td>\n",
       "      <td>1350</td>\n",
       "      <td>USD</td>\n",
       "      <td>BUC</td>\n",
       "    </tr>\n",
       "    <tr>\n",
       "      <th>5</th>\n",
       "      <td>NINGBO</td>\n",
       "      <td>CHINA</td>\n",
       "      <td>725</td>\n",
       "      <td>1350</td>\n",
       "      <td>1350</td>\n",
       "      <td>USD</td>\n",
       "      <td>BUC</td>\n",
       "    </tr>\n",
       "    <tr>\n",
       "      <th>6</th>\n",
       "      <td>NANSHA</td>\n",
       "      <td>CHINA</td>\n",
       "      <td>725</td>\n",
       "      <td>1350</td>\n",
       "      <td>1350</td>\n",
       "      <td>USD</td>\n",
       "      <td>BUC</td>\n",
       "    </tr>\n",
       "    <tr>\n",
       "      <th>7</th>\n",
       "      <td>YANTIAN</td>\n",
       "      <td>CHINA</td>\n",
       "      <td>725</td>\n",
       "      <td>1350</td>\n",
       "      <td>1350</td>\n",
       "      <td>USD</td>\n",
       "      <td>BUC</td>\n",
       "    </tr>\n",
       "    <tr>\n",
       "      <th>8</th>\n",
       "      <td>SINGAPORE</td>\n",
       "      <td>SINGAPORE</td>\n",
       "      <td>725</td>\n",
       "      <td>1350</td>\n",
       "      <td>1350</td>\n",
       "      <td>USD</td>\n",
       "      <td>BUC</td>\n",
       "    </tr>\n",
       "  </tbody>\n",
       "</table>\n",
       "</div>"
      ],
      "text/plain": [
       "           puerto_origen pais_destino  contenedor20  contenedor40  \\\n",
       "0                QINGDAO        CHINA           725          1350   \n",
       "1  KAOHSIUNG ( Solo VLC)       TAIWAN           725          1350   \n",
       "2   HONG KONG (Solo VLC)    HONG KONG           725          1350   \n",
       "3                  PUSAN  SOUTH KOREA           725          1350   \n",
       "4               SHANGHAI        CHINA           725          1350   \n",
       "5                 NINGBO        CHINA           725          1350   \n",
       "6                 NANSHA        CHINA           725          1350   \n",
       "7                YANTIAN        CHINA           725          1350   \n",
       "8              SINGAPORE    SINGAPORE           725          1350   \n",
       "\n",
       "   contenedor40hc moneda cargo  \n",
       "0            1350    USD   BUC  \n",
       "1            1350    USD   BUC  \n",
       "2            1350    USD   BUC  \n",
       "3            1350    USD   BUC  \n",
       "4            1350    USD   BUC  \n",
       "5            1350    USD   BUC  \n",
       "6            1350    USD   BUC  \n",
       "7            1350    USD   BUC  \n",
       "8            1350    USD   BUC  "
      ]
     },
     "execution_count": 47,
     "metadata": {},
     "output_type": "execute_result"
    }
   ],
   "source": [
    "#Rutas con el máximo cobro en contenedor 20\n",
    "\n",
    "rutas[rutas['contenedor20'] == 725]"
   ]
  },
  {
   "cell_type": "code",
   "execution_count": 78,
   "metadata": {},
   "outputs": [
    {
     "data": {
      "image/png": "[encoded data removed]",
      "text/plain": [
       "<Figure size 842.4x595.44 with 1 Axes>"
      ]
     },
     "metadata": {},
     "output_type": "display_data"
    },
    {
     "data": {
      "text/plain": [
       "<Figure size 842.4x595.44 with 0 Axes>"
      ]
     },
     "metadata": {},
     "output_type": "display_data"
    }
   ],
   "source": [
    "#Grafico de caja para saber la distribución de los gastos en contenedores tipo 20 \n",
    "\n",
    "sns.boxplot(rutas['contenedor20'])\n",
    "plt.title('Distribución de los gastos realizados en tipo de contenedores 20')\n",
    "plt.show()\n",
    "plt.savefig('contenedores20_gastos.png')"
   ]
  },
  {
   "cell_type": "code",
   "execution_count": 60,
   "metadata": {},
   "outputs": [
    {
     "data": {
      "text/plain": [
       "count      74.000000\n",
       "mean     1561.486486\n",
       "std       157.364270\n",
       "min      1350.000000\n",
       "25%      1450.000000\n",
       "50%      1550.000000\n",
       "75%      1600.000000\n",
       "max      2050.000000\n",
       "Name: contenedor40, dtype: float64"
      ]
     },
     "execution_count": 60,
     "metadata": {},
     "output_type": "execute_result"
    }
   ],
   "source": [
    "#Analisis tipo de contenedor 40\n",
    "\n",
    "rutas.contenedor40.describe()"
   ]
  },
  {
   "cell_type": "code",
   "execution_count": 59,
   "metadata": {},
   "outputs": [
    {
     "data": {
      "text/html": [
       "<div>\n",
       "<style scoped>\n",
       "    .dataframe tbody tr th:only-of-type {\n",
       "        vertical-align: middle;\n",
       "    }\n",
       "\n",
       "    .dataframe tbody tr th {\n",
       "        vertical-align: top;\n",
       "    }\n",
       "\n",
       "    .dataframe thead th {\n",
       "        text-align: right;\n",
       "    }\n",
       "</style>\n",
       "<table border=\"1\" class=\"dataframe\">\n",
       "  <thead>\n",
       "    <tr style=\"text-align: right;\">\n",
       "      <th></th>\n",
       "      <th>puerto_origen</th>\n",
       "      <th>pais_destino</th>\n",
       "      <th>contenedor20</th>\n",
       "      <th>contenedor40</th>\n",
       "      <th>contenedor40hc</th>\n",
       "      <th>moneda</th>\n",
       "      <th>cargo</th>\n",
       "    </tr>\n",
       "  </thead>\n",
       "  <tbody>\n",
       "    <tr>\n",
       "      <th>24</th>\n",
       "      <td>CHONG QING</td>\n",
       "      <td>CHINA</td>\n",
       "      <td>1125</td>\n",
       "      <td>2050</td>\n",
       "      <td>2050</td>\n",
       "      <td>USD</td>\n",
       "      <td>BUC</td>\n",
       "    </tr>\n",
       "  </tbody>\n",
       "</table>\n",
       "</div>"
      ],
      "text/plain": [
       "   puerto_origen pais_destino  contenedor20  contenedor40  contenedor40hc  \\\n",
       "24    CHONG QING        CHINA          1125          2050            2050   \n",
       "\n",
       "   moneda cargo  \n",
       "24    USD   BUC  "
      ]
     },
     "execution_count": 59,
     "metadata": {},
     "output_type": "execute_result"
    }
   ],
   "source": [
    "#Ruta más costosa \n",
    "\n",
    "rutas[rutas['contenedor40'] == 2050]"
   ]
  },
  {
   "cell_type": "code",
   "execution_count": 58,
   "metadata": {},
   "outputs": [
    {
     "data": {
      "text/html": [
       "<div>\n",
       "<style scoped>\n",
       "    .dataframe tbody tr th:only-of-type {\n",
       "        vertical-align: middle;\n",
       "    }\n",
       "\n",
       "    .dataframe tbody tr th {\n",
       "        vertical-align: top;\n",
       "    }\n",
       "\n",
       "    .dataframe thead th {\n",
       "        text-align: right;\n",
       "    }\n",
       "</style>\n",
       "<table border=\"1\" class=\"dataframe\">\n",
       "  <thead>\n",
       "    <tr style=\"text-align: right;\">\n",
       "      <th></th>\n",
       "      <th>puerto_origen</th>\n",
       "      <th>pais_destino</th>\n",
       "      <th>contenedor20</th>\n",
       "      <th>contenedor40</th>\n",
       "      <th>contenedor40hc</th>\n",
       "      <th>moneda</th>\n",
       "      <th>cargo</th>\n",
       "    </tr>\n",
       "  </thead>\n",
       "  <tbody>\n",
       "    <tr>\n",
       "      <th>0</th>\n",
       "      <td>QINGDAO</td>\n",
       "      <td>CHINA</td>\n",
       "      <td>725</td>\n",
       "      <td>1350</td>\n",
       "      <td>1350</td>\n",
       "      <td>USD</td>\n",
       "      <td>BUC</td>\n",
       "    </tr>\n",
       "    <tr>\n",
       "      <th>1</th>\n",
       "      <td>KAOHSIUNG ( Solo VLC)</td>\n",
       "      <td>TAIWAN</td>\n",
       "      <td>725</td>\n",
       "      <td>1350</td>\n",
       "      <td>1350</td>\n",
       "      <td>USD</td>\n",
       "      <td>BUC</td>\n",
       "    </tr>\n",
       "    <tr>\n",
       "      <th>2</th>\n",
       "      <td>HONG KONG (Solo VLC)</td>\n",
       "      <td>HONG KONG</td>\n",
       "      <td>725</td>\n",
       "      <td>1350</td>\n",
       "      <td>1350</td>\n",
       "      <td>USD</td>\n",
       "      <td>BUC</td>\n",
       "    </tr>\n",
       "    <tr>\n",
       "      <th>3</th>\n",
       "      <td>PUSAN</td>\n",
       "      <td>SOUTH KOREA</td>\n",
       "      <td>725</td>\n",
       "      <td>1350</td>\n",
       "      <td>1350</td>\n",
       "      <td>USD</td>\n",
       "      <td>BUC</td>\n",
       "    </tr>\n",
       "    <tr>\n",
       "      <th>4</th>\n",
       "      <td>SHANGHAI</td>\n",
       "      <td>CHINA</td>\n",
       "      <td>725</td>\n",
       "      <td>1350</td>\n",
       "      <td>1350</td>\n",
       "      <td>USD</td>\n",
       "      <td>BUC</td>\n",
       "    </tr>\n",
       "    <tr>\n",
       "      <th>5</th>\n",
       "      <td>NINGBO</td>\n",
       "      <td>CHINA</td>\n",
       "      <td>725</td>\n",
       "      <td>1350</td>\n",
       "      <td>1350</td>\n",
       "      <td>USD</td>\n",
       "      <td>BUC</td>\n",
       "    </tr>\n",
       "    <tr>\n",
       "      <th>6</th>\n",
       "      <td>NANSHA</td>\n",
       "      <td>CHINA</td>\n",
       "      <td>725</td>\n",
       "      <td>1350</td>\n",
       "      <td>1350</td>\n",
       "      <td>USD</td>\n",
       "      <td>BUC</td>\n",
       "    </tr>\n",
       "    <tr>\n",
       "      <th>7</th>\n",
       "      <td>YANTIAN</td>\n",
       "      <td>CHINA</td>\n",
       "      <td>725</td>\n",
       "      <td>1350</td>\n",
       "      <td>1350</td>\n",
       "      <td>USD</td>\n",
       "      <td>BUC</td>\n",
       "    </tr>\n",
       "    <tr>\n",
       "      <th>8</th>\n",
       "      <td>SINGAPORE</td>\n",
       "      <td>SINGAPORE</td>\n",
       "      <td>725</td>\n",
       "      <td>1350</td>\n",
       "      <td>1350</td>\n",
       "      <td>USD</td>\n",
       "      <td>BUC</td>\n",
       "    </tr>\n",
       "  </tbody>\n",
       "</table>\n",
       "</div>"
      ],
      "text/plain": [
       "           puerto_origen pais_destino  contenedor20  contenedor40  \\\n",
       "0                QINGDAO        CHINA           725          1350   \n",
       "1  KAOHSIUNG ( Solo VLC)       TAIWAN           725          1350   \n",
       "2   HONG KONG (Solo VLC)    HONG KONG           725          1350   \n",
       "3                  PUSAN  SOUTH KOREA           725          1350   \n",
       "4               SHANGHAI        CHINA           725          1350   \n",
       "5                 NINGBO        CHINA           725          1350   \n",
       "6                 NANSHA        CHINA           725          1350   \n",
       "7                YANTIAN        CHINA           725          1350   \n",
       "8              SINGAPORE    SINGAPORE           725          1350   \n",
       "\n",
       "   contenedor40hc moneda cargo  \n",
       "0            1350    USD   BUC  \n",
       "1            1350    USD   BUC  \n",
       "2            1350    USD   BUC  \n",
       "3            1350    USD   BUC  \n",
       "4            1350    USD   BUC  \n",
       "5            1350    USD   BUC  \n",
       "6            1350    USD   BUC  \n",
       "7            1350    USD   BUC  \n",
       "8            1350    USD   BUC  "
      ]
     },
     "execution_count": 58,
     "metadata": {},
     "output_type": "execute_result"
    }
   ],
   "source": [
    "#Rutas menos costosas\n",
    "\n",
    "rutas[rutas['contenedor40'] == 1350]"
   ]
  },
  {
   "cell_type": "code",
   "execution_count": 79,
   "metadata": {},
   "outputs": [
    {
     "data": {
      "image/png": "[encoded data removed]",
      "text/plain": [
       "<Figure size 842.4x595.44 with 1 Axes>"
      ]
     },
     "metadata": {},
     "output_type": "display_data"
    },
    {
     "data": {
      "text/plain": [
       "<Figure size 842.4x595.44 with 0 Axes>"
      ]
     },
     "metadata": {},
     "output_type": "display_data"
    }
   ],
   "source": [
    "#Distrubución contenedores 40 \n",
    "\n",
    "sns.distplot(rutas['contenedor40'])\n",
    "plt.title('Distribución de gastos en contenedores tipo 40')\n",
    "plt.xlabel('Importe')\n",
    "plt.ylabel('Distribución en porcentaje')\n",
    "plt.show()\n",
    "plt.savefig('distribucion_gastos_contenedores_40.png')"
   ]
  },
  {
   "cell_type": "code",
   "execution_count": 64,
   "metadata": {},
   "outputs": [
    {
     "data": {
      "text/plain": [
       "USD    66\n",
       "EUR     7\n",
       "GBP     1\n",
       "Name: moneda, dtype: int64"
      ]
     },
     "execution_count": 64,
     "metadata": {},
     "output_type": "execute_result"
    }
   ],
   "source": [
    "#Estudio de monedas \n",
    "\n",
    "rutas.moneda.value_counts()"
   ]
  },
  {
   "cell_type": "code",
   "execution_count": 66,
   "metadata": {},
   "outputs": [
    {
     "data": {
      "text/plain": [
       "USD    0.891892\n",
       "EUR    0.094595\n",
       "GBP    0.013514\n",
       "Name: moneda, dtype: float64"
      ]
     },
     "execution_count": 66,
     "metadata": {},
     "output_type": "execute_result"
    }
   ],
   "source": [
    "#Proporción de monedas\n",
    "\n",
    "rutas.moneda.value_counts(normalize = True)"
   ]
  },
  {
   "cell_type": "code",
   "execution_count": 71,
   "metadata": {},
   "outputs": [
    {
     "data": {
      "text/plain": [
       "BUC       0.905405\n",
       "ISOCC     0.081081\n",
       "WRC       0.013514\n",
       "Name: cargo, dtype: float64"
      ]
     },
     "execution_count": 71,
     "metadata": {},
     "output_type": "execute_result"
    }
   ],
   "source": [
    "#Estudio de cargos\n",
    "\n",
    "rutas.cargo.value_counts(normalize = True)"
   ]
  },
  {
   "cell_type": "code",
   "execution_count": 72,
   "metadata": {},
   "outputs": [
    {
     "data": {
      "text/plain": [
       "Index(['puerto_origen', 'pais_destino', 'contenedor20', 'contenedor40',\n",
       "       'contenedor40hc', 'moneda', 'cargo'],\n",
       "      dtype='object')"
      ]
     },
     "execution_count": 72,
     "metadata": {},
     "output_type": "execute_result"
    }
   ],
   "source": [
    "rutas.columns"
   ]
  },
  {
   "cell_type": "markdown",
   "metadata": {},
   "source": [
    "#### Agrupación país destino"
   ]
  },
  {
   "cell_type": "code",
   "execution_count": 75,
   "metadata": {},
   "outputs": [
    {
     "data": {
      "text/html": [
       "<div>\n",
       "<style scoped>\n",
       "    .dataframe tbody tr th:only-of-type {\n",
       "        vertical-align: middle;\n",
       "    }\n",
       "\n",
       "    .dataframe tbody tr th {\n",
       "        vertical-align: top;\n",
       "    }\n",
       "\n",
       "    .dataframe thead tr th {\n",
       "        text-align: left;\n",
       "    }\n",
       "\n",
       "    .dataframe thead tr:last-of-type th {\n",
       "        text-align: right;\n",
       "    }\n",
       "</style>\n",
       "<table border=\"1\" class=\"dataframe\">\n",
       "  <thead>\n",
       "    <tr>\n",
       "      <th></th>\n",
       "      <th colspan=\"4\" halign=\"left\">contenedor20</th>\n",
       "      <th colspan=\"4\" halign=\"left\">contenedor40</th>\n",
       "      <th colspan=\"4\" halign=\"left\">contenedor40hc</th>\n",
       "    </tr>\n",
       "    <tr>\n",
       "      <th></th>\n",
       "      <th>mean</th>\n",
       "      <th>sum</th>\n",
       "      <th>min</th>\n",
       "      <th>max</th>\n",
       "      <th>mean</th>\n",
       "      <th>sum</th>\n",
       "      <th>min</th>\n",
       "      <th>max</th>\n",
       "      <th>mean</th>\n",
       "      <th>sum</th>\n",
       "      <th>min</th>\n",
       "      <th>max</th>\n",
       "    </tr>\n",
       "    <tr>\n",
       "      <th>pais_destino</th>\n",
       "      <th></th>\n",
       "      <th></th>\n",
       "      <th></th>\n",
       "      <th></th>\n",
       "      <th></th>\n",
       "      <th></th>\n",
       "      <th></th>\n",
       "      <th></th>\n",
       "      <th></th>\n",
       "      <th></th>\n",
       "      <th></th>\n",
       "      <th></th>\n",
       "    </tr>\n",
       "  </thead>\n",
       "  <tbody>\n",
       "    <tr>\n",
       "      <th>Bangladesh</th>\n",
       "      <td>1025.000000</td>\n",
       "      <td>1025</td>\n",
       "      <td>1025</td>\n",
       "      <td>1025</td>\n",
       "      <td>1950.000000</td>\n",
       "      <td>1950</td>\n",
       "      <td>1950</td>\n",
       "      <td>1950</td>\n",
       "      <td>1950.000000</td>\n",
       "      <td>1950</td>\n",
       "      <td>1950</td>\n",
       "      <td>1950</td>\n",
       "    </tr>\n",
       "    <tr>\n",
       "      <th>CHINA</th>\n",
       "      <td>835.937500</td>\n",
       "      <td>26750</td>\n",
       "      <td>725</td>\n",
       "      <td>1125</td>\n",
       "      <td>1575.000000</td>\n",
       "      <td>50400</td>\n",
       "      <td>1350</td>\n",
       "      <td>2050</td>\n",
       "      <td>1575.000000</td>\n",
       "      <td>50400</td>\n",
       "      <td>1350</td>\n",
       "      <td>2050</td>\n",
       "    </tr>\n",
       "    <tr>\n",
       "      <th>Camboya</th>\n",
       "      <td>875.000000</td>\n",
       "      <td>875</td>\n",
       "      <td>875</td>\n",
       "      <td>875</td>\n",
       "      <td>1650.000000</td>\n",
       "      <td>1650</td>\n",
       "      <td>1650</td>\n",
       "      <td>1650</td>\n",
       "      <td>1650.000000</td>\n",
       "      <td>1650</td>\n",
       "      <td>1650</td>\n",
       "      <td>1650</td>\n",
       "    </tr>\n",
       "    <tr>\n",
       "      <th>Filipinas</th>\n",
       "      <td>800.000000</td>\n",
       "      <td>1600</td>\n",
       "      <td>775</td>\n",
       "      <td>825</td>\n",
       "      <td>1500.000000</td>\n",
       "      <td>3000</td>\n",
       "      <td>1450</td>\n",
       "      <td>1550</td>\n",
       "      <td>1500.000000</td>\n",
       "      <td>3000</td>\n",
       "      <td>1450</td>\n",
       "      <td>1550</td>\n",
       "    </tr>\n",
       "    <tr>\n",
       "      <th>HONG KONG</th>\n",
       "      <td>737.500000</td>\n",
       "      <td>1475</td>\n",
       "      <td>725</td>\n",
       "      <td>750</td>\n",
       "      <td>1375.000000</td>\n",
       "      <td>2750</td>\n",
       "      <td>1350</td>\n",
       "      <td>1400</td>\n",
       "      <td>1375.000000</td>\n",
       "      <td>2750</td>\n",
       "      <td>1350</td>\n",
       "      <td>1400</td>\n",
       "    </tr>\n",
       "    <tr>\n",
       "      <th>India</th>\n",
       "      <td>903.571429</td>\n",
       "      <td>6325</td>\n",
       "      <td>875</td>\n",
       "      <td>975</td>\n",
       "      <td>1657.142857</td>\n",
       "      <td>11600</td>\n",
       "      <td>1600</td>\n",
       "      <td>1800</td>\n",
       "      <td>1657.142857</td>\n",
       "      <td>11600</td>\n",
       "      <td>1600</td>\n",
       "      <td>1800</td>\n",
       "    </tr>\n",
       "    <tr>\n",
       "      <th>Indonesia</th>\n",
       "      <td>775.000000</td>\n",
       "      <td>3100</td>\n",
       "      <td>775</td>\n",
       "      <td>775</td>\n",
       "      <td>1450.000000</td>\n",
       "      <td>5800</td>\n",
       "      <td>1450</td>\n",
       "      <td>1450</td>\n",
       "      <td>1450.000000</td>\n",
       "      <td>5800</td>\n",
       "      <td>1450</td>\n",
       "      <td>1450</td>\n",
       "    </tr>\n",
       "    <tr>\n",
       "      <th>Japon</th>\n",
       "      <td>853.571429</td>\n",
       "      <td>5975</td>\n",
       "      <td>825</td>\n",
       "      <td>925</td>\n",
       "      <td>1635.714286</td>\n",
       "      <td>11450</td>\n",
       "      <td>1550</td>\n",
       "      <td>1750</td>\n",
       "      <td>1635.714286</td>\n",
       "      <td>11450</td>\n",
       "      <td>1550</td>\n",
       "      <td>1750</td>\n",
       "    </tr>\n",
       "    <tr>\n",
       "      <th>Malasia</th>\n",
       "      <td>775.000000</td>\n",
       "      <td>3100</td>\n",
       "      <td>775</td>\n",
       "      <td>775</td>\n",
       "      <td>1450.000000</td>\n",
       "      <td>5800</td>\n",
       "      <td>1450</td>\n",
       "      <td>1450</td>\n",
       "      <td>1450.000000</td>\n",
       "      <td>5800</td>\n",
       "      <td>1450</td>\n",
       "      <td>1450</td>\n",
       "    </tr>\n",
       "    <tr>\n",
       "      <th>Myanmar</th>\n",
       "      <td>925.000000</td>\n",
       "      <td>925</td>\n",
       "      <td>925</td>\n",
       "      <td>925</td>\n",
       "      <td>1750.000000</td>\n",
       "      <td>1750</td>\n",
       "      <td>1750</td>\n",
       "      <td>1750</td>\n",
       "      <td>1750.000000</td>\n",
       "      <td>1750</td>\n",
       "      <td>1750</td>\n",
       "      <td>1750</td>\n",
       "    </tr>\n",
       "    <tr>\n",
       "      <th>Pakistán</th>\n",
       "      <td>875.000000</td>\n",
       "      <td>875</td>\n",
       "      <td>875</td>\n",
       "      <td>875</td>\n",
       "      <td>1600.000000</td>\n",
       "      <td>1600</td>\n",
       "      <td>1600</td>\n",
       "      <td>1600</td>\n",
       "      <td>1600.000000</td>\n",
       "      <td>1600</td>\n",
       "      <td>1600</td>\n",
       "      <td>1600</td>\n",
       "    </tr>\n",
       "    <tr>\n",
       "      <th>SINGAPORE</th>\n",
       "      <td>725.000000</td>\n",
       "      <td>725</td>\n",
       "      <td>725</td>\n",
       "      <td>725</td>\n",
       "      <td>1350.000000</td>\n",
       "      <td>1350</td>\n",
       "      <td>1350</td>\n",
       "      <td>1350</td>\n",
       "      <td>1350.000000</td>\n",
       "      <td>1350</td>\n",
       "      <td>1350</td>\n",
       "      <td>1350</td>\n",
       "    </tr>\n",
       "    <tr>\n",
       "      <th>SOUTH KOREA</th>\n",
       "      <td>725.000000</td>\n",
       "      <td>725</td>\n",
       "      <td>725</td>\n",
       "      <td>725</td>\n",
       "      <td>1350.000000</td>\n",
       "      <td>1350</td>\n",
       "      <td>1350</td>\n",
       "      <td>1350</td>\n",
       "      <td>1350.000000</td>\n",
       "      <td>1350</td>\n",
       "      <td>1350</td>\n",
       "      <td>1350</td>\n",
       "    </tr>\n",
       "    <tr>\n",
       "      <th>TAIWAN</th>\n",
       "      <td>725.000000</td>\n",
       "      <td>725</td>\n",
       "      <td>725</td>\n",
       "      <td>725</td>\n",
       "      <td>1350.000000</td>\n",
       "      <td>1350</td>\n",
       "      <td>1350</td>\n",
       "      <td>1350</td>\n",
       "      <td>1350.000000</td>\n",
       "      <td>1350</td>\n",
       "      <td>1350</td>\n",
       "      <td>1350</td>\n",
       "    </tr>\n",
       "    <tr>\n",
       "      <th>Tailandia</th>\n",
       "      <td>841.666667</td>\n",
       "      <td>2525</td>\n",
       "      <td>775</td>\n",
       "      <td>975</td>\n",
       "      <td>1583.333333</td>\n",
       "      <td>4750</td>\n",
       "      <td>1450</td>\n",
       "      <td>1850</td>\n",
       "      <td>1583.333333</td>\n",
       "      <td>4750</td>\n",
       "      <td>1450</td>\n",
       "      <td>1850</td>\n",
       "    </tr>\n",
       "    <tr>\n",
       "      <th>Taiwan</th>\n",
       "      <td>818.750000</td>\n",
       "      <td>3275</td>\n",
       "      <td>750</td>\n",
       "      <td>875</td>\n",
       "      <td>1525.000000</td>\n",
       "      <td>6100</td>\n",
       "      <td>1400</td>\n",
       "      <td>1600</td>\n",
       "      <td>1525.000000</td>\n",
       "      <td>6100</td>\n",
       "      <td>1400</td>\n",
       "      <td>1600</td>\n",
       "    </tr>\n",
       "    <tr>\n",
       "      <th>Vietnam</th>\n",
       "      <td>775.000000</td>\n",
       "      <td>1550</td>\n",
       "      <td>775</td>\n",
       "      <td>775</td>\n",
       "      <td>1450.000000</td>\n",
       "      <td>2900</td>\n",
       "      <td>1450</td>\n",
       "      <td>1450</td>\n",
       "      <td>1450.000000</td>\n",
       "      <td>2900</td>\n",
       "      <td>1450</td>\n",
       "      <td>1450</td>\n",
       "    </tr>\n",
       "  </tbody>\n",
       "</table>\n",
       "</div>"
      ],
      "text/plain": [
       "             contenedor20                    contenedor40                     \\\n",
       "                     mean    sum   min   max         mean    sum   min   max   \n",
       "pais_destino                                                                   \n",
       "Bangladesh    1025.000000   1025  1025  1025  1950.000000   1950  1950  1950   \n",
       "CHINA          835.937500  26750   725  1125  1575.000000  50400  1350  2050   \n",
       "Camboya        875.000000    875   875   875  1650.000000   1650  1650  1650   \n",
       "Filipinas      800.000000   1600   775   825  1500.000000   3000  1450  1550   \n",
       "HONG KONG      737.500000   1475   725   750  1375.000000   2750  1350  1400   \n",
       "India          903.571429   6325   875   975  1657.142857  11600  1600  1800   \n",
       "Indonesia      775.000000   3100   775   775  1450.000000   5800  1450  1450   \n",
       "Japon          853.571429   5975   825   925  1635.714286  11450  1550  1750   \n",
       "Malasia        775.000000   3100   775   775  1450.000000   5800  1450  1450   \n",
       "Myanmar        925.000000    925   925   925  1750.000000   1750  1750  1750   \n",
       "Pakistán       875.000000    875   875   875  1600.000000   1600  1600  1600   \n",
       "SINGAPORE      725.000000    725   725   725  1350.000000   1350  1350  1350   \n",
       "SOUTH KOREA    725.000000    725   725   725  1350.000000   1350  1350  1350   \n",
       "TAIWAN         725.000000    725   725   725  1350.000000   1350  1350  1350   \n",
       "Tailandia      841.666667   2525   775   975  1583.333333   4750  1450  1850   \n",
       "Taiwan         818.750000   3275   750   875  1525.000000   6100  1400  1600   \n",
       "Vietnam        775.000000   1550   775   775  1450.000000   2900  1450  1450   \n",
       "\n",
       "             contenedor40hc                     \n",
       "                       mean    sum   min   max  \n",
       "pais_destino                                    \n",
       "Bangladesh      1950.000000   1950  1950  1950  \n",
       "CHINA           1575.000000  50400  1350  2050  \n",
       "Camboya         1650.000000   1650  1650  1650  \n",
       "Filipinas       1500.000000   3000  1450  1550  \n",
       "HONG KONG       1375.000000   2750  1350  1400  \n",
       "India           1657.142857  11600  1600  1800  \n",
       "Indonesia       1450.000000   5800  1450  1450  \n",
       "Japon           1635.714286  11450  1550  1750  \n",
       "Malasia         1450.000000   5800  1450  1450  \n",
       "Myanmar         1750.000000   1750  1750  1750  \n",
       "Pakistán        1600.000000   1600  1600  1600  \n",
       "SINGAPORE       1350.000000   1350  1350  1350  \n",
       "SOUTH KOREA     1350.000000   1350  1350  1350  \n",
       "TAIWAN          1350.000000   1350  1350  1350  \n",
       "Tailandia       1583.333333   4750  1450  1850  \n",
       "Taiwan          1525.000000   6100  1400  1600  \n",
       "Vietnam         1450.000000   2900  1450  1450  "
      ]
     },
     "execution_count": 75,
     "metadata": {},
     "output_type": "execute_result"
    }
   ],
   "source": [
    "rutas.groupby('pais_destino')[['contenedor20', 'contenedor40', 'contenedor40hc']].agg(['mean', 'sum', 'min', 'max'])"
   ]
  },
  {
   "cell_type": "code",
   "execution_count": 76,
   "metadata": {},
   "outputs": [],
   "source": [
    "#Se guarda la tabla \n",
    "\n",
    "gastos_por_pais = rutas.groupby('pais_destino')[['contenedor20', 'contenedor40', 'contenedor40hc']].agg(['mean', 'sum', 'min', 'max'])"
   ]
  },
  {
   "cell_type": "code",
   "execution_count": 77,
   "metadata": {},
   "outputs": [],
   "source": [
    "\n",
    "\n",
    "gastos_por_pais.to_csv('gastos_por_pais.csv')"
   ]
  },
  {
   "cell_type": "code",
   "execution_count": null,
   "metadata": {},
   "outputs": [],
   "source": []
  }
 ],
 "metadata": {
  "kernelspec": {
   "display_name": "Python 3",
   "language": "python",
   "name": "python3"
  },
  "language_info": {
   "codemirror_mode": {
    "name": "ipython",
    "version": 3
   },
   "file_extension": ".py",
   "mimetype": "text/x-python",
   "name": "python",
   "nbconvert_exporter": "python",
   "pygments_lexer": "ipython3",
   "version": "3.6.9"
  }
 },
 "nbformat": 4,
 "nbformat_minor": 4
}
